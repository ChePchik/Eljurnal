{
 "cells": [
  {
   "cell_type": "code",
   "execution_count": 23,
   "metadata": {},
   "outputs": [
    {
     "name": "stdout",
     "output_type": "stream",
     "text": [
      "ИСП-221а Поддержка и тестирование программных модулей\n",
      "[]\n",
      "3264542 03.03.2023\n",
      "[]\n",
      "3264729 03.03.2023\n",
      "[]\n",
      "3264448 03.03.2023\n",
      "[]\n",
      "3264635 03.03.2023\n",
      "[]\n",
      "3298156 16.03.2023\n",
      "[]\n",
      "3298270 16.03.2023\n",
      "[]\n",
      "3298197 16.03.2023\n",
      "[]\n",
      "3298311 16.03.2023\n",
      "[]\n",
      "3301115 17.03.2023\n",
      "[]\n",
      "3301211 17.03.2023\n",
      "[]\n",
      "3301135 17.03.2023\n",
      "[]\n",
      "3301231 17.03.2023\n",
      "[]\n",
      "3314254 22.03.2023\n",
      "[]\n",
      "3314374 22.03.2023\n",
      "[]\n",
      "3418039 27.04.2023\n",
      "[]\n",
      "3418171 27.04.2023\n",
      "[]\n",
      "3418074 27.04.2023\n",
      "[]\n",
      "3418206 27.04.2023\n",
      "[]\n",
      "3418124 27.04.2023\n",
      "[]\n",
      "3418244 27.04.2023\n"
     ]
    }
   ],
   "source": [
    "import spisok_student as s\n",
    "import requests\n",
    "import json\n",
    "import os\n",
    "import re\n",
    "\n",
    "import funcEJ\n",
    "from dotenv import load_dotenv\n",
    "load_dotenv()\n",
    "\n",
    "\n",
    "dates_from = os.getenv('DATES_FROM')\n",
    "dates = os.getenv('DATES')\n",
    "cookie = os.getenv('COOKIE')\n",
    "diir = os.getenv('DIIR')\n",
    "url_get_theme = 'https://ssuz.vip.edu35.ru/actions/register/lessons_tab/lessons_tab_get_add_work_window'\n",
    "spisok = [s.spisok[0]]\n",
    "for el in spisok:\n",
    "            payload = funcEJ.payload_rows_teory(el[\"group_id\"], el[\"subject_id\"])\n",
    "            response = requests.post(funcEJ.url_tab_rows, headers=funcEJ.headers, data=payload)\n",
    "\n",
    "            data = response.json()\n",
    "            print(el['group'])\n",
    "            # print(el)\n",
    "            # data['rows'][0]['student_name'],\n",
    "\n",
    "            rows = data['rows'][0]['lessons']\n",
    "            for i in rows:\n",
    "                # print(i)\n",
    "                payload_get_theme = {\n",
    "                  'lesson_id':i['id'],\n",
    "                  'student_id':\tel['student_id'],\n",
    "                  'unit_id':\t\"22\",\n",
    "                  'period_id':\t\"30\",\n",
    "                  'date_from':\t\"2023-01-01T00:00:00\",\n",
    "                  'date_to':\t\"04.07.2023\",\n",
    "                  'practical'\t:\"\",\n",
    "                  'slave_mode':\t\"1\",\n",
    "                  'month':\t\"\",\n",
    "                  'group_id'\t:el['group_id'],\n",
    "                  'subject'\t:\"0\",\n",
    "                  'subject_gen_pr_id':\t\"0\",\n",
    "                  'exam_subject_id':\t\"0\",\n",
    "                  'subject_sub_group_obj':\t'{\"subject_id\":' +el['subject_id']+'}',\n",
    "                  'subject_id':\tel['subject_id'],\n",
    "                  'view_lessons':\t\"false\",\n",
    "                }\n",
    "                # print(payload_get_theme)\n",
    "                response_theme = requests.post(url_get_theme, headers=funcEJ.headers, data=payload_get_theme)\n",
    "                data_theme = response_theme.text\n",
    "                # print(data_theme)\n",
    "                # match = re.findall(\"value:'\\s*([^']+)\\s*\\\\u000A'\", data_theme)\n",
    "                match1 = re.findall(\"value:'\\s*([^']+)\\s*\\\\u000A'\", data_theme)\n",
    "\n",
    "                # match = match[-1] if match else 0\n",
    "\n",
    "                print(match1)\n",
    "                print(i['id'], i['date'])\n",
    "            # input()"
   ]
  },
  {
   "cell_type": "code",
   "execution_count": 33,
   "metadata": {},
   "outputs": [
    {
     "name": "stdout",
     "output_type": "stream",
     "text": [
      "Работы на теоретических занятиях 11\n"
     ]
    }
   ],
   "source": [
    "import re\n",
    "payload = {'lesson_id': 3264542, 'student_id': '70002', 'unit_id': '22', 'period_id': '30', 'date_from': '2023-01-01T00:00:00', 'date_to': '04.07.2023', 'practical': '', 'slave_mode': '1', 'month': '', 'group_id': '4649', 'subject': '0', 'subject_gen_pr_id': '0', 'exam_subject_id': '0', 'subject_sub_group_obj': '{\"subject_id\":6132}', 'subject_id': '6132', 'view_lessons': 'false'}\n",
    "\n",
    "response_theme = requests.post(url_get_theme, headers=funcEJ.headers, data=payload)\n",
    "data_theme = response_theme.text\n",
    "# print(data_theme)\n",
    "match = re.findall('''title:(\"|')([^\"']+)''', data_theme)\n",
    "match = match[-1] if match else 0\n",
    "# if match[1]:\n",
    "#   print(match[1],11)\n",
    "# else:\n",
    "print(match[1])\n",
    "\n",
    "\n"
   ]
  },
  {
   "cell_type": "code",
   "execution_count": 22,
   "metadata": {},
   "outputs": [
    {
     "name": "stdout",
     "output_type": "stream",
     "text": [
      "['Верификация программного обеспечения']\n"
     ]
    }
   ],
   "source": [
    "s = \"\"\",new Ext.Panel({id:'cmp_3220fe33',listeners:{},style:{\"padding\":\"5px 5px 5px 5px\"},height:100,region:'north',autoScroll:true,layout:'form',border:true,split:false,header:false,bodyCfg:{cls:'x-window-mc'},autoScroll:true,items:[createAdvancedDataField({id:'cmp_209f0d51',listeners:{},flex:1,anchor:'100%',cls:'m3-grey-field',fieldLabel:'Дата',value:'03.03.2023',readOnly:true,isEdit:true,invalidClass:'m3-form-invalid',format:'d.m.Y',value:'03.03.2023',startDay:1,editable:true},{hideTriggerToday:true}),new Ext.form.TextArea({id:'cmp_6b993ef9',listeners:{},flex:1,anchor:'100%',fieldLabel:'Тема',value:'Верификация программного обеспечения\\u000A',isEdit:true,maxLength:100,invalidClass:'m3-form-invalid',autoCreate:{tag:'textarea',autocomplete:'off',maxlength:100}})]})],buttons:[\n",
    "\"\"\"\n",
    "match = re.findall(\"value:'\\s*([^']+)\\s*\\\\u000A'\", s)\n",
    "print(match)\n"
   ]
  }
 ],
 "metadata": {
  "kernelspec": {
   "display_name": "Python 3",
   "language": "python",
   "name": "python3"
  },
  "language_info": {
   "codemirror_mode": {
    "name": "ipython",
    "version": 3
   },
   "file_extension": ".py",
   "mimetype": "text/x-python",
   "name": "python",
   "nbconvert_exporter": "python",
   "pygments_lexer": "ipython3",
   "version": "3.10.10"
  },
  "orig_nbformat": 4
 },
 "nbformat": 4,
 "nbformat_minor": 2
}
